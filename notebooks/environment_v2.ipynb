{
 "cells": [
  {
   "cell_type": "code",
   "execution_count": 1,
   "metadata": {},
   "outputs": [],
   "source": [
    "import sys\n",
    "import os\n",
    "\n",
    "# Add the project root directory to the Python path\n",
    "project_root = os.path.abspath(\"..\")  # Adjust based on your folder structure\n",
    "sys.path.append(project_root)"
   ]
  },
  {
   "cell_type": "code",
   "execution_count": 2,
   "metadata": {},
   "outputs": [
    {
     "data": {
      "text/plain": [
       "<module 'tactix.utils' from '/Users/alibal/Desktop/tactix-game/tactix/utils.py'>"
      ]
     },
     "execution_count": 2,
     "metadata": {},
     "output_type": "execute_result"
    }
   ],
   "source": [
    "import numpy as np\n",
    "import importlib\n",
    "import torch\n",
    "from tactix.utils import *\n",
    "from tactix.tactixGame import TactixGame\n",
    "from tactix.tactixLogic import Board\n",
    "from tactix.tactixMove import Move\n",
    "\n",
    "importlib.reload(sys.modules['tactix.tactixGame'])\n",
    "importlib.reload(sys.modules['tactix.utils'])"
   ]
  },
  {
   "cell_type": "code",
   "execution_count": 3,
   "metadata": {},
   "outputs": [],
   "source": [
    "from tactix.utils import encode_action, decode_action\n",
    "\n",
    "class TactixEnvironment():\n",
    "    def __init__(self):\n",
    "        \"\"\"Initialize the environment with a game instance.\"\"\"\n",
    "        self.game = TactixGame()  # Initialize the game logic\n",
    "        self.state = None  # Current game state\n",
    "        self.done = False  # Flag to indicate if the game is over\n",
    "        self.starting_player = 1\n",
    "\n",
    "    def reset(self):\n",
    "        \"\"\"Reset the environment to the initial state.\"\"\"\n",
    "        self.starting_player = -1 if self.starting_player == 1 else 1\n",
    "        self.game = TactixGame(current_player=self.starting_player)  # Create a new instance of TactixGame\n",
    "        self.state = self.game.getPieces()  # Initialize the board state\n",
    "        self.done = False  # Reset the game-over flag\n",
    "        valid_moves_mask = self._generate_valid_moves_mask()\n",
    "        return self._get_observation(), valid_moves_mask\n",
    "\n",
    "    def step(self, action):\n",
    "        \"\"\"Execute the action in the environment.\"\"\"\n",
    "        move = decode_action(action, self.game.height)  # Decode action index\n",
    "        self.game.makeMove(move)  # Execute the move\n",
    "        game_ended = self.game.getGameEnded()\n",
    "\n",
    "        if game_ended and game_ended.is_ended:\n",
    "            reward = -1\n",
    "            self.done = True\n",
    "        elif np.sum(self.game.getPieces()) == 1:\n",
    "            reward = 1\n",
    "        else:\n",
    "            reward = 0\n",
    "\n",
    "        return self._get_observation(), reward, self.done\n",
    "\n",
    "    def _generate_valid_moves_mask(self):\n",
    "        valid_moves = self.game.getValidMoves()\n",
    "        valid_moves_mask = torch.zeros(125)\n",
    "        for move in valid_moves:\n",
    "            action_index = encode_action(move, self.game.height)\n",
    "            valid_moves_mask[action_index] = 1\n",
    "        return valid_moves_mask\n",
    "\n",
    "    def _get_observation(self):\n",
    "        \"\"\"\n",
    "        Convert the current board state into a PyTorch tensor.\n",
    "\n",
    "        Returns:\n",
    "            torch.Tensor: The current state as a tensor.\n",
    "        \"\"\"\n",
    "        return torch.from_numpy(np.array(self.state, dtype=np.float32))\n",
    "\n",
    "    def render(self):\n",
    "        \"\"\"Display the current board and game status.\"\"\"\n",
    "        self.game.display()"
   ]
  },
  {
   "cell_type": "code",
   "execution_count": null,
   "metadata": {},
   "outputs": [],
   "source": []
  }
 ],
 "metadata": {
  "kernelspec": {
   "display_name": "tactix-game-env",
   "language": "python",
   "name": "python3"
  },
  "language_info": {
   "codemirror_mode": {
    "name": "ipython",
    "version": 3
   },
   "file_extension": ".py",
   "mimetype": "text/x-python",
   "name": "python",
   "nbconvert_exporter": "python",
   "pygments_lexer": "ipython3",
   "version": "3.9.19"
  }
 },
 "nbformat": 4,
 "nbformat_minor": 2
}
