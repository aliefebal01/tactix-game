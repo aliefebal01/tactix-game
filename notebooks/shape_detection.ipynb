{
 "cells": [
  {
   "cell_type": "code",
   "execution_count": 1,
   "metadata": {},
   "outputs": [],
   "source": [
    "import sys\n",
    "import os\n",
    "\n",
    "# Add the project root directory to the Python path\n",
    "project_root = os.path.abspath(\"..\")  # Adjust based on your folder structure\n",
    "sys.path.append(project_root)"
   ]
  },
  {
   "cell_type": "code",
   "execution_count": 8,
   "metadata": {},
   "outputs": [
    {
     "data": {
      "text/plain": [
       "<module 'tactix.utils' from '/Users/alibal/Desktop/tactix-game/tactix/utils.py'>"
      ]
     },
     "execution_count": 8,
     "metadata": {},
     "output_type": "execute_result"
    }
   ],
   "source": [
    "import numpy as np\n",
    "import importlib\n",
    "import torch\n",
    "from tactix.utils import *\n",
    "from tactix.tactixGame import TactixGame\n",
    "from tactix.tactixLogic import Board\n",
    "from tactix.tactixMove import Move\n",
    "from scipy.signal import convolve2d\n",
    "\n",
    "importlib.reload(sys.modules['tactix.tactixGame'])\n",
    "importlib.reload(sys.modules['tactix.utils'])"
   ]
  },
  {
   "cell_type": "code",
   "execution_count": 28,
   "metadata": {},
   "outputs": [
    {
     "ename": "KeyError",
     "evalue": "'line_6'",
     "output_type": "error",
     "traceback": [
      "\u001b[0;31m---------------------------------------------------------------------------\u001b[0m",
      "\u001b[0;31mKeyError\u001b[0m                                  Traceback (most recent call last)",
      "Cell \u001b[0;32mIn[28], line 9\u001b[0m\n\u001b[1;32m      1\u001b[0m game \u001b[38;5;241m=\u001b[39m TactixGame(height\u001b[38;5;241m=\u001b[39m\u001b[38;5;241m5\u001b[39m, width\u001b[38;5;241m=\u001b[39m\u001b[38;5;241m5\u001b[39m, np_pieces\u001b[38;5;241m=\u001b[39mnp\u001b[38;5;241m.\u001b[39marray([[\u001b[38;5;241m0\u001b[39m,\u001b[38;5;241m0\u001b[39m,\u001b[38;5;241m1\u001b[39m,\u001b[38;5;241m0\u001b[39m,\u001b[38;5;241m0\u001b[39m],\n\u001b[1;32m      2\u001b[0m                                                          [\u001b[38;5;241m1\u001b[39m,\u001b[38;5;241m1\u001b[39m,\u001b[38;5;241m1\u001b[39m,\u001b[38;5;241m0\u001b[39m,\u001b[38;5;241m0\u001b[39m],\n\u001b[1;32m      3\u001b[0m                                                          [\u001b[38;5;241m0\u001b[39m,\u001b[38;5;241m0\u001b[39m,\u001b[38;5;241m0\u001b[39m,\u001b[38;5;241m0\u001b[39m,\u001b[38;5;241m0\u001b[39m],\n\u001b[1;32m      4\u001b[0m                                                          [\u001b[38;5;241m0\u001b[39m,\u001b[38;5;241m0\u001b[39m,\u001b[38;5;241m0\u001b[39m,\u001b[38;5;241m0\u001b[39m,\u001b[38;5;241m0\u001b[39m],\n\u001b[1;32m      5\u001b[0m                                                          [\u001b[38;5;241m0\u001b[39m,\u001b[38;5;241m0\u001b[39m,\u001b[38;5;241m0\u001b[39m,\u001b[38;5;241m0\u001b[39m,\u001b[38;5;241m0\u001b[39m]]))\n\u001b[1;32m      8\u001b[0m existing \u001b[38;5;241m=\u001b[39m game\u001b[38;5;241m.\u001b[39mdetect_all_shapes()\n\u001b[0;32m----> 9\u001b[0m \u001b[43mexisting\u001b[49m\u001b[43m[\u001b[49m\u001b[38;5;124;43m'\u001b[39;49m\u001b[38;5;124;43mline_6\u001b[39;49m\u001b[38;5;124;43m'\u001b[39;49m\u001b[43m]\u001b[49m\n",
      "\u001b[0;31mKeyError\u001b[0m: 'line_6'"
     ]
    }
   ],
   "source": [
    "game = TactixGame(height=5, width=5, np_pieces=np.array([[0,0,1,0,0],\n",
    "                                                         [1,1,1,0,0],\n",
    "                                                         [0,0,0,0,0],\n",
    "                                                         [0,0,0,0,0],\n",
    "                                                         [0,0,0,0,0]]))\n",
    "\n",
    "\n",
    "existing = game.detect_all_shapes()\n",
    "existing['line_6']"
   ]
  },
  {
   "cell_type": "code",
   "execution_count": 25,
   "metadata": {},
   "outputs": [
    {
     "name": "stdout",
     "output_type": "stream",
     "text": [
      "triangle: True\n",
      "square: False\n",
      "line_2: True\n",
      "line_3: True\n",
      "line_4: False\n",
      "line_5: False\n"
     ]
    }
   ],
   "source": [
    "for shape in existing:\n",
    "    print(f\"{shape}: {existing[shape]}\")"
   ]
  },
  {
   "cell_type": "code",
   "execution_count": 3,
   "metadata": {},
   "outputs": [],
   "source": [
    "# Define shape templates\n",
    "triangle = np.array([\n",
    "    [1,1],\n",
    "    [1,0]\n",
    "])\n",
    "\n",
    "square = np.array([\n",
    "    [1,1],\n",
    "    [1,1]\n",
    "])\n",
    "\n",
    "line_2 = np.array([\n",
    "    [1, 1]\n",
    "])\n",
    "\n",
    "line_3 = np.array([\n",
    "    [1, 1, 1]\n",
    "])\n",
    "\n",
    "line_4 = np.array([\n",
    "    [1, 1, 1, 1]\n",
    "])\n",
    "\n",
    "line_5 = np.array([\n",
    "    [1, 1, 1, 1, 1]\n",
    "])\n",
    "\n",
    "line_6 = np.array([\n",
    "    [1, 1, 1, 1, 1, 1]\n",
    "])\n",
    "\n",
    "line_7 = np.array([\n",
    "    [1, 1, 1, 1, 1, 1, 1]\n",
    "])\n",
    "\n"
   ]
  },
  {
   "cell_type": "code",
   "execution_count": 4,
   "metadata": {},
   "outputs": [],
   "source": [
    "def detect_shape(matrix, shape):\n",
    "    # Perform a convolution between the matrix and the shape\n",
    "    result = convolve2d(matrix, shape, mode='valid')\n",
    "    \n",
    "    # Check if the sum of the shape matches anywhere in the result\n",
    "    return np.any(result == np.sum(shape))"
   ]
  },
  {
   "cell_type": "code",
   "execution_count": 5,
   "metadata": {},
   "outputs": [],
   "source": [
    "def detect_shape_with_rotations(matrix, shape):\n",
    "    for _ in range(4):  # Rotate 0, 90, 180, and 270 degrees\n",
    "        if detect_shape(matrix, shape):\n",
    "            return True\n",
    "        shape = np.rot90(shape)  # Rotate the shape by 90 degrees\n",
    "    return False"
   ]
  },
  {
   "cell_type": "code",
   "execution_count": 7,
   "metadata": {},
   "outputs": [
    {
     "name": "stdout",
     "output_type": "stream",
     "text": [
      "Triangle detected: True\n",
      "Square detected: False\n",
      "line detected: True\n"
     ]
    }
   ],
   "source": [
    "# Example matrix\n",
    "matrix = np.array([\n",
    "    [0, 0, 0, 0, 0],\n",
    "    [0, 1, 0, 0, 0],\n",
    "    [0, 1, 1, 0, 0],\n",
    "    [0, 0, 0, 0, 0],\n",
    "    [0, 0, 0, 0, 0]\n",
    "])\n",
    "\n",
    "# Check for triangle\n",
    "print(\"Triangle detected:\", detect_shape_with_rotations(matrix, triangle))\n",
    "\n",
    "# Check for square\n",
    "print(\"Square detected:\", detect_shape_with_rotations(matrix, square))\n",
    "\n",
    "# Check for horizontal line\n",
    "print(\"line detected:\", detect_shape_with_rotations(matrix, line_2))\n",
    "\n"
   ]
  },
  {
   "cell_type": "code",
   "execution_count": 16,
   "metadata": {},
   "outputs": [
    {
     "name": "stdout",
     "output_type": "stream",
     "text": [
      "{'triangle': True, 'square': False, 'line_2': True, 'line_3': True, 'line_4': True, 'line_5': False, 'line_6': False, 'line_7': False}\n"
     ]
    }
   ],
   "source": [
    "def detect_all_shapes(matrix):\n",
    "    \"\"\"\n",
    "    Detect predefined shapes in a matrix.\n",
    "\n",
    "    Parameters:\n",
    "        matrix (np.array): The input binary matrix (e.g., 7x7 board).\n",
    "    \n",
    "    Returns:\n",
    "        dict: A dictionary containing booleans for each shape's existence.\n",
    "    \"\"\"\n",
    "    # Define shape templates\n",
    "    shapes = {\n",
    "        \"triangle\": np.array([\n",
    "            [1, 1],\n",
    "            [1, 0]\n",
    "        ]),\n",
    "        \"square\": np.array([\n",
    "            [1, 1],\n",
    "            [1, 1]\n",
    "        ]),\n",
    "        \"line_2\": np.array([[1, 1]]),\n",
    "        \"line_3\": np.array([[1, 1, 1]]),\n",
    "        \"line_4\": np.array([[1, 1, 1, 1]]),\n",
    "        \"line_5\": np.array([[1, 1, 1, 1, 1]]),\n",
    "        \"line_6\": np.array([[1, 1, 1, 1, 1, 1]]),\n",
    "        \"line_7\": np.array([[1, 1, 1, 1, 1, 1, 1]])\n",
    "    }\n",
    "\n",
    "    def detect_shape_with_rotations(matrix, shape):\n",
    "        \"\"\"\n",
    "        Check if a shape exists in the matrix, considering all rotations.\n",
    "\n",
    "        Parameters:\n",
    "            matrix (np.array): The input binary matrix.\n",
    "            shape (np.array): The binary shape to detect.\n",
    "        \n",
    "        Returns:\n",
    "            bool: True if the shape is detected in any orientation, False otherwise.\n",
    "        \"\"\"\n",
    "        for _ in range(4):  # Rotate 0, 90, 180, and 270 degrees\n",
    "            # Perform a convolution between the matrix and the shape\n",
    "            result = convolve2d(matrix, shape, mode='valid')\n",
    "            \n",
    "            # Check if the sum of the shape matches anywhere in the result\n",
    "            if np.any(result == np.sum(shape)):\n",
    "                return True\n",
    "            shape = np.rot90(shape)  # Rotate the shape by 90 degrees\n",
    "        return False\n",
    "\n",
    "    # Initialize results\n",
    "    results = {shape_name: False for shape_name in shapes}\n",
    "\n",
    "    # Detect each shape\n",
    "    for shape_name, shape in shapes.items():\n",
    "        results[shape_name] = detect_shape_with_rotations(matrix, shape)\n",
    "\n",
    "    return results\n",
    "\n",
    "# Example usage\n",
    "matrix = np.array([\n",
    "    [0, 0, 0, 0, 0, 0, 0],\n",
    "    [0, 0, 1, 0, 0, 0, 0],\n",
    "    [0, 0, 0, 0, 0, 0, 0],\n",
    "    [0, 1, 1, 1, 1, 0, 0],\n",
    "    [0, 0, 0, 0, 1, 0, 0],\n",
    "    [0, 0, 0, 0, 0, 0, 0],\n",
    "    [0, 0, 0, 0, 0, 0, 0],\n",
    "])\n",
    "\n",
    "result = detect_all_shapes(matrix)\n",
    "print(result)"
   ]
  },
  {
   "cell_type": "code",
   "execution_count": 13,
   "metadata": {},
   "outputs": [
    {
     "data": {
      "text/plain": [
       "True"
      ]
     },
     "execution_count": 13,
     "metadata": {},
     "output_type": "execute_result"
    }
   ],
   "source": [
    "result['triangle']"
   ]
  },
  {
   "cell_type": "code",
   "execution_count": null,
   "metadata": {},
   "outputs": [],
   "source": [
    "# def detect_shape(matrix, shape):\n",
    "#     # Perform a convolution between the matrix and the shape\n",
    "#     result = convolve2d(matrix, shape, mode='valid')\n",
    "    \n",
    "#     # Check if the sum of the shape matches anywhere in the result\n",
    "#     return np.any(result == np.sum(shape))"
   ]
  },
  {
   "cell_type": "code",
   "execution_count": null,
   "metadata": {},
   "outputs": [],
   "source": []
  }
 ],
 "metadata": {
  "kernelspec": {
   "display_name": "tactix-game-env",
   "language": "python",
   "name": "python3"
  },
  "language_info": {
   "codemirror_mode": {
    "name": "ipython",
    "version": 3
   },
   "file_extension": ".py",
   "mimetype": "text/x-python",
   "name": "python",
   "nbconvert_exporter": "python",
   "pygments_lexer": "ipython3",
   "version": "3.9.19"
  }
 },
 "nbformat": 4,
 "nbformat_minor": 2
}
