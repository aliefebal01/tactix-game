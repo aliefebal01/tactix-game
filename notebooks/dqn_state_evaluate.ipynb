{
 "cells": [
  {
   "cell_type": "code",
   "execution_count": 2,
   "metadata": {},
   "outputs": [],
   "source": [
    "import sys\n",
    "import os\n",
    "\n",
    "# Add the project root directory to the Python path\n",
    "project_root = os.path.abspath(\"..\")  # Adjust based on your folder structure\n",
    "sys.path.append(project_root)"
   ]
  },
  {
   "cell_type": "code",
   "execution_count": 3,
   "metadata": {},
   "outputs": [
    {
     "data": {
      "text/plain": [
       "<module 'tactix.utils' from '/Users/alibal/Desktop/tactix-game/tactix/utils.py'>"
      ]
     },
     "execution_count": 3,
     "metadata": {},
     "output_type": "execute_result"
    }
   ],
   "source": [
    "import torch\n",
    "import torch.nn as nn\n",
    "import torch.optim as optim\n",
    "import importlib\n",
    "from collections import deque\n",
    "import random\n",
    "import numpy as np\n",
    "from tactix.utils import *\n",
    "from tactix.tactixEnvironment_without_opp import TactixEnvironment\n",
    "from tactix.tactixGame import TactixGame\n",
    "from scripts.dqn_agent_attention import DQNAgent\n",
    "from scripts.dqn_agent_mh_attention import DQNAgent as DQNAgentMH\n",
    "from scripts.dqn_agent_dr_re_attention import DQNAgent as DQNAgentDR\n",
    "from scripts.dqn_attention import DQN\n",
    "import matplotlib.pyplot as plt\n",
    "\n",
    "importlib.reload(sys.modules['tactix.tactixGame'])\n",
    "importlib.reload(sys.modules['tactix.tactixEnvironment_without_opp'])\n",
    "importlib.reload(sys.modules['tactix.utils'])\n"
   ]
  },
  {
   "cell_type": "code",
   "execution_count": 5,
   "metadata": {},
   "outputs": [
    {
     "name": "stdout",
     "output_type": "stream",
     "text": [
      "/Users/alibal/Desktop/tactix-game/training_results/training_results_5x5_with_attention_mcts2/models/network_hl_128_128_128_gamma_0.75_bs_128_tufq_100_mcts_iter_50_mcts_lr_0.4_wr_32_tr_-48805.pth\n"
     ]
    }
   ],
   "source": [
    "evaluated_model_path_small = os.path.join(\n",
    "        project_root,\n",
    "        \"training_results\",\n",
    "        \"training_results_5x5_with_attention_mcts2\",\n",
    "        \"models\",\n",
    "        \"network_hl_128_128_128_gamma_0.75_bs_128_tufq_100_mcts_iter_50_mcts_lr_0.4_wr_32_tr_-48805.pth\"\n",
    "    )\n",
    "print(evaluated_model_path_small)\n"
   ]
  },
  {
   "cell_type": "code",
   "execution_count": 6,
   "metadata": {},
   "outputs": [
    {
     "name": "stderr",
     "output_type": "stream",
     "text": [
      "/Users/alibal/Desktop/tactix-game/scripts/dqn_agent_attention.py:39: FutureWarning: You are using `torch.load` with `weights_only=False` (the current default value), which uses the default pickle module implicitly. It is possible to construct malicious pickle data which will execute arbitrary code during unpickling (See https://github.com/pytorch/pytorch/blob/main/SECURITY.md#untrusted-models for more details). In a future release, the default value for `weights_only` will be flipped to `True`. This limits the functions that could be executed during unpickling. Arbitrary objects will no longer be allowed to be loaded via this mode unless they are explicitly allowlisted by the user via `torch.serialization.add_safe_globals`. We recommend you start setting `weights_only=True` for any use case where you don't have full control of the loaded file. Please open an issue on GitHub for any issues related to this experimental feature.\n",
      "  self.q_network.load_state_dict(torch.load(pretrained_model_path, map_location=self.device))\n"
     ]
    },
    {
     "name": "stdout",
     "output_type": "stream",
     "text": [
      "Loaded pretrained model from /Users/alibal/Desktop/tactix-game/training_results/training_results_5x5_with_attention_mcts2/models/network_hl_128_128_128_gamma_0.75_bs_128_tufq_100_mcts_iter_50_mcts_lr_0.4_wr_32_tr_-48805.pth\n"
     ]
    }
   ],
   "source": [
    "evaluated_agent_small = DQNAgent(state_size=25, action_size=125, layer_sizes=[128, 128, 128],\n",
    "                           lr=1e-4, gamma=0.75, epsilon_start=0.0, epsilon_end=0.0, epsilon_decay=0.9995,\n",
    "                           memory_capacity=50000, device=\"cpu\", pretrained_model_path=evaluated_model_path_small)"
   ]
  },
  {
   "cell_type": "code",
   "execution_count": 8,
   "metadata": {},
   "outputs": [
    {
     "name": "stdout",
     "output_type": "stream",
     "text": [
      "/Users/alibal/Desktop/tactix-game/training_results/training_results_5x5_with_attention_mcts2/models/network_hl_256_256_256_256_256_gamma_0.70_bs_128_tufq_100_mcts_iter_50_mcts_lr_0.4_wr_27_tr_-241556.pth\n"
     ]
    }
   ],
   "source": [
    "evaluated_model_path_medium = os.path.join(\n",
    "        project_root,\n",
    "        \"training_results\",\n",
    "        \"training_results_5x5_with_attention_mcts2\",\n",
    "        \"models\",\n",
    "        \"network_hl_256_256_256_256_256_gamma_0.70_bs_128_tufq_100_mcts_iter_50_mcts_lr_0.4_wr_27_tr_-241556.pth\"\n",
    "    )\n",
    "print(evaluated_model_path_medium)"
   ]
  },
  {
   "cell_type": "code",
   "execution_count": 79,
   "metadata": {},
   "outputs": [
    {
     "name": "stdout",
     "output_type": "stream",
     "text": [
      "/Users/alibal/Desktop/tactix-game/training_results/training_results_5x5_with_attention_mcts2/models/network_hl_128_128_128_gamma_0.70_bs_128_tufq_200_mcts_iter_50_mcts_lr_0.4_wr_26_tr_-442274.pth\n"
     ]
    }
   ],
   "source": [
    "evaluated_model_path_end_game = os.path.join(\n",
    "        project_root,\n",
    "        \"training_results\",\n",
    "        \"training_results_5x5_with_attention_mcts2\",\n",
    "        \"models\",\n",
    "        \"network_hl_128_128_128_gamma_0.70_bs_128_tufq_200_mcts_iter_50_mcts_lr_0.4_wr_26_tr_-442274.pth\"\n",
    "    )\n",
    "print(evaluated_model_path_end_game)"
   ]
  },
  {
   "cell_type": "code",
   "execution_count": 80,
   "metadata": {},
   "outputs": [
    {
     "name": "stdout",
     "output_type": "stream",
     "text": [
      "Loaded pretrained model from /Users/alibal/Desktop/tactix-game/training_results/training_results_5x5_with_attention_mcts2/models/network_hl_128_128_128_gamma_0.70_bs_128_tufq_200_mcts_iter_50_mcts_lr_0.4_wr_26_tr_-442274.pth\n"
     ]
    },
    {
     "name": "stderr",
     "output_type": "stream",
     "text": [
      "/Users/alibal/Desktop/tactix-game/scripts/dqn_agent_attention.py:39: FutureWarning: You are using `torch.load` with `weights_only=False` (the current default value), which uses the default pickle module implicitly. It is possible to construct malicious pickle data which will execute arbitrary code during unpickling (See https://github.com/pytorch/pytorch/blob/main/SECURITY.md#untrusted-models for more details). In a future release, the default value for `weights_only` will be flipped to `True`. This limits the functions that could be executed during unpickling. Arbitrary objects will no longer be allowed to be loaded via this mode unless they are explicitly allowlisted by the user via `torch.serialization.add_safe_globals`. We recommend you start setting `weights_only=True` for any use case where you don't have full control of the loaded file. Please open an issue on GitHub for any issues related to this experimental feature.\n",
      "  self.q_network.load_state_dict(torch.load(pretrained_model_path, map_location=self.device))\n"
     ]
    }
   ],
   "source": [
    "evaluated_agent_end_game = DQNAgent(state_size=25, action_size=125, layer_sizes=[128, 128, 128],\n",
    "                           lr=1e-4, gamma=0.75, epsilon_start=0.0, epsilon_end=0.0, epsilon_decay=0.9995,\n",
    "                           memory_capacity=50000, device=\"cpu\", pretrained_model_path=evaluated_model_path_end_game)"
   ]
  },
  {
   "cell_type": "code",
   "execution_count": 81,
   "metadata": {},
   "outputs": [
    {
     "name": "stdout",
     "output_type": "stream",
     "text": [
      "/Users/alibal/Desktop/tactix-game/training_results/training_results_5x5_dqns_against_each_other/models/network_hl_128_128_128_gamma_0.70_bs_128_tufq_100_wr_96_tr_114516.pth\n"
     ]
    }
   ],
   "source": [
    "evaluated_model_path_dqn_trained = os.path.join(\n",
    "        project_root,\n",
    "        \"training_results\",\n",
    "        \"training_results_5x5_dqns_against_each_other\",\n",
    "        \"models\",\n",
    "        \"network_hl_128_128_128_gamma_0.70_bs_128_tufq_100_wr_96_tr_114516.pth\"\n",
    "    )\n",
    "print(evaluated_model_path_dqn_trained)"
   ]
  },
  {
   "cell_type": "code",
   "execution_count": 82,
   "metadata": {},
   "outputs": [
    {
     "name": "stdout",
     "output_type": "stream",
     "text": [
      "Loaded pretrained model from /Users/alibal/Desktop/tactix-game/training_results/training_results_5x5_dqns_against_each_other/models/network_hl_128_128_128_gamma_0.70_bs_128_tufq_100_wr_96_tr_114516.pth\n"
     ]
    }
   ],
   "source": [
    "evaluated_agent_dqn = DQNAgent(state_size=25, action_size=125, layer_sizes=[128, 128, 128],\n",
    "                           lr=1e-4, gamma=0.7, epsilon_start=0.0, epsilon_end=0.0, epsilon_decay=0.9995,\n",
    "                           memory_capacity=50000, device=\"cpu\", pretrained_model_path=evaluated_model_path_dqn_trained)"
   ]
  },
  {
   "cell_type": "code",
   "execution_count": 83,
   "metadata": {},
   "outputs": [
    {
     "name": "stdout",
     "output_type": "stream",
     "text": [
      "Loaded pretrained model from /Users/alibal/Desktop/tactix-game/training_results/training_results_5x5_with_attention_mcts2/models/network_hl_256_256_256_256_256_gamma_0.70_bs_128_tufq_100_mcts_iter_50_mcts_lr_0.4_wr_27_tr_-241556.pth\n"
     ]
    }
   ],
   "source": [
    "evaluated_agent_medium = DQNAgent(state_size=25, action_size=125, layer_sizes=[256, 256, 256, 256, 256],\n",
    "                           lr=1e-4, gamma=0.7, epsilon_start=0.0, epsilon_end=0.0, epsilon_decay=0.9995,\n",
    "                           memory_capacity=50000, device=\"cpu\", pretrained_model_path=evaluated_model_path_medium)"
   ]
  },
  {
   "cell_type": "code",
   "execution_count": 84,
   "metadata": {},
   "outputs": [
    {
     "name": "stdout",
     "output_type": "stream",
     "text": [
      "/Users/alibal/Desktop/tactix-game/training_results/training_results_5x5_with_attention_mcts2/models/network_hl_512_512_512_512_512_512_512_gamma_0.70_bs_512_tufq_100_mcts_iter_50_mcts_lr_0.4_wr_29_tr_-162840.pth\n"
     ]
    }
   ],
   "source": [
    "evaluated_model_path_big = os.path.join(\n",
    "        project_root,\n",
    "        \"training_results\",\n",
    "        \"training_results_5x5_with_attention_mcts2\",\n",
    "        \"models\",\n",
    "        \"network_hl_512_512_512_512_512_512_512_gamma_0.70_bs_512_tufq_100_mcts_iter_50_mcts_lr_0.4_wr_29_tr_-162840.pth\"\n",
    "    )\n",
    "print(evaluated_model_path_big)"
   ]
  },
  {
   "cell_type": "code",
   "execution_count": 85,
   "metadata": {},
   "outputs": [
    {
     "name": "stdout",
     "output_type": "stream",
     "text": [
      "Loaded pretrained model from /Users/alibal/Desktop/tactix-game/training_results/training_results_5x5_with_attention_mcts2/models/network_hl_512_512_512_512_512_512_512_gamma_0.70_bs_512_tufq_100_mcts_iter_50_mcts_lr_0.4_wr_29_tr_-162840.pth\n"
     ]
    },
    {
     "name": "stderr",
     "output_type": "stream",
     "text": [
      "/Users/alibal/Desktop/tactix-game/scripts/dqn_agent_dr_re_attention.py:39: FutureWarning: You are using `torch.load` with `weights_only=False` (the current default value), which uses the default pickle module implicitly. It is possible to construct malicious pickle data which will execute arbitrary code during unpickling (See https://github.com/pytorch/pytorch/blob/main/SECURITY.md#untrusted-models for more details). In a future release, the default value for `weights_only` will be flipped to `True`. This limits the functions that could be executed during unpickling. Arbitrary objects will no longer be allowed to be loaded via this mode unless they are explicitly allowlisted by the user via `torch.serialization.add_safe_globals`. We recommend you start setting `weights_only=True` for any use case where you don't have full control of the loaded file. Please open an issue on GitHub for any issues related to this experimental feature.\n",
      "  self.q_network.load_state_dict(torch.load(pretrained_model_path, map_location=self.device))\n"
     ]
    }
   ],
   "source": [
    "evaluated_agent_big = DQNAgentDR(state_size=25, action_size=125, layer_sizes=[512, 512, 512, 512, 512, 512, 512],\n",
    "                           lr=1e-4, gamma=0.7, epsilon_start=0.0, epsilon_end=0.0, epsilon_decay=0.9995,\n",
    "                           memory_capacity=50000, device=\"cpu\", pretrained_model_path=evaluated_model_path_big)"
   ]
  },
  {
   "cell_type": "code",
   "execution_count": 148,
   "metadata": {},
   "outputs": [],
   "source": [
    "game = TactixGame(height=5, width=5, np_pieces=np.array([[0,0,0,0,0],\n",
    "                                                         [0,0,0,1,0],\n",
    "                                                         [1,0,0,0,1],\n",
    "                                                         [0,0,1,0,0],\n",
    "                                                         [0,0,0,0,0]]))"
   ]
  },
  {
   "cell_type": "code",
   "execution_count": 111,
   "metadata": {},
   "outputs": [],
   "source": [
    "env = TactixEnvironment(board_size=5)\n",
    "env.game = game\n",
    "env.state = env.game.getPieces()"
   ]
  },
  {
   "cell_type": "code",
   "execution_count": 112,
   "metadata": {},
   "outputs": [],
   "source": [
    "dqn_gets_state = env._get_observation()\n",
    "dqn_gets_valid_moves = env._generate_valid_moves_mask()\n",
    "\n",
    "dqn_gets_state = dqn_gets_state.view(-1).unsqueeze(0)       # flatten the state and add a batch dimension\n",
    "dqn_gets_valid_moves = dqn_gets_valid_moves.unsqueeze(0)    # add a batch dimension"
   ]
  },
  {
   "cell_type": "code",
   "execution_count": 113,
   "metadata": {},
   "outputs": [
    {
     "name": "stdout",
     "output_type": "stream",
     "text": [
      "112\n",
      "[2, 3, 2, True]\n"
     ]
    }
   ],
   "source": [
    "action_idx = evaluated_agent_end_game.select_action(dqn_gets_state, dqn_gets_valid_moves)\n",
    "print(action_idx)\n",
    "decoded_action = decode_action(action_idx, 5)\n",
    "print(decoded_action)"
   ]
  },
  {
   "cell_type": "code",
   "execution_count": 47,
   "metadata": {},
   "outputs": [
    {
     "name": "stdout",
     "output_type": "stream",
     "text": [
      "50\n",
      "[3, 1, 1, False]\n"
     ]
    }
   ],
   "source": [
    "action_idx = evaluated_agent_dqn.select_action(dqn_gets_state, dqn_gets_valid_moves)\n",
    "print(action_idx)\n",
    "decoded_action = decode_action(action_idx, 5)\n",
    "print(decoded_action)"
   ]
  },
  {
   "cell_type": "code",
   "execution_count": 178,
   "metadata": {},
   "outputs": [
    {
     "name": "stdout",
     "output_type": "stream",
     "text": [
      "114\n",
      "[3, 3, 2, True]\n"
     ]
    }
   ],
   "source": [
    "action_idx = evaluated_agent_small.select_action(dqn_gets_state, dqn_gets_valid_moves)\n",
    "print(action_idx)\n",
    "decoded_action = decode_action(action_idx, 5)\n",
    "print(decoded_action)"
   ]
  },
  {
   "cell_type": "code",
   "execution_count": 179,
   "metadata": {},
   "outputs": [
    {
     "name": "stdout",
     "output_type": "stream",
     "text": [
      "113\n",
      "[2, 3, 3, True]\n"
     ]
    }
   ],
   "source": [
    "action_idx = evaluated_agent_medium.select_action(dqn_gets_state, dqn_gets_valid_moves)\n",
    "print(action_idx)\n",
    "decoded_action = decode_action(action_idx, 5)\n",
    "print(decoded_action)"
   ]
  },
  {
   "cell_type": "code",
   "execution_count": 180,
   "metadata": {},
   "outputs": [
    {
     "name": "stdout",
     "output_type": "stream",
     "text": [
      "25\n",
      "[1, 2, 2, False]\n"
     ]
    }
   ],
   "source": [
    "action_idx = evaluated_agent_big.select_action(dqn_gets_state, dqn_gets_valid_moves)\n",
    "print(action_idx)\n",
    "decoded_action = decode_action(action_idx, 5)\n",
    "print(decoded_action)"
   ]
  },
  {
   "cell_type": "code",
   "execution_count": null,
   "metadata": {},
   "outputs": [],
   "source": []
  }
 ],
 "metadata": {
  "kernelspec": {
   "display_name": "tactix-game-env",
   "language": "python",
   "name": "python3"
  },
  "language_info": {
   "codemirror_mode": {
    "name": "ipython",
    "version": 3
   },
   "file_extension": ".py",
   "mimetype": "text/x-python",
   "name": "python",
   "nbconvert_exporter": "python",
   "pygments_lexer": "ipython3",
   "version": "3.9.19"
  }
 },
 "nbformat": 4,
 "nbformat_minor": 2
}
